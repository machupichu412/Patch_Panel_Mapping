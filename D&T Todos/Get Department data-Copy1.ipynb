{
 "cells": [
  {
   "cell_type": "code",
   "execution_count": 6,
   "id": "ea102b88",
   "metadata": {},
   "outputs": [],
   "source": [
    "import pandas as pd\n"
   ]
  },
  {
   "cell_type": "code",
   "execution_count": 7,
   "id": "ed043b71",
   "metadata": {},
   "outputs": [],
   "source": [
    "room_data = pd.read_csv(\"U_HOSP.csv\")"
   ]
  },
  {
   "cell_type": "code",
   "execution_count": 8,
   "id": "e93549e6",
   "metadata": {},
   "outputs": [
    {
     "data": {
      "text/plain": [
       "7"
      ]
     },
     "execution_count": 8,
     "metadata": {},
     "output_type": "execute_result"
    }
   ],
   "source": [
    "dict_df = pd.read_excel('portlabels.xlsx', \n",
    "                   sheet_name=['B2A247C', 'B2F401C', 'B2H212C', 'B2H214C', 'B1B259C', 'B1D409C', '1C430C'])\n",
    "\n",
    "len(dict_df)"
   ]
  },
  {
   "cell_type": "code",
   "execution_count": 9,
   "id": "e6f9dc2f",
   "metadata": {},
   "outputs": [],
   "source": [
    "# room_data_filtered = room_data[room_data[\"rmrecnbr\"].isin(lst)][[\"rmrecnbr\", \"occdeptlist\", \"rmnbr\"]]\n",
    "# room_data_filtered"
   ]
  },
  {
   "cell_type": "code",
   "execution_count": 11,
   "id": "da51dc53",
   "metadata": {},
   "outputs": [],
   "source": [
    "filtered_dfs = []\n",
    "\n",
    "for dfkey in dict_df:\n",
    "    df = dict_df.get(dfkey)\n",
    "    filtered_df = room_data[room_data[\"rmnbr\"].isin(df[\"rmnbr\"])][[\"rmrecnbr\", \"occdeptlist\", \"rmnbr\"]]\n",
    "#     filtered_dfs.append(filtered_df)\n",
    "    writer = pd.ExcelWriter(f\"{dfkey}.xlsx\")\n",
    "    filtered_df.to_excel(writer, index = False)\n",
    "    writer.close()"
   ]
  },
  {
   "cell_type": "code",
   "execution_count": 9,
   "id": "23ed2e26",
   "metadata": {},
   "outputs": [],
   "source": [
    "writer = pd.ExcelWriter(\"B2A247C.xlsx\")\n",
    "result_df.to_excel(writer, index = False)\n",
    "writer.close()"
   ]
  },
  {
   "cell_type": "code",
   "execution_count": null,
   "id": "9253b110",
   "metadata": {},
   "outputs": [],
   "source": [
    "# Get the list of \"rmnbrs\" in the smaller DataFrames\n",
    "all_small_rmnbrs = pd.concat(small_dfs)[\"rmnbr\"].tolist()\n",
    "\n",
    "# Find the \"rmnbrs\" that are in the smaller DataFrames but not in the master DataFrame\n",
    "missing_rmnbrs = set(all_small_rmnbrs) - set(master_df[\"rmnbr\"])\n",
    "\n",
    "# Convert the set of missing \"rmnbrs\" back to a list\n",
    "missing_rmnbrs_list = list(missing_rmnbrs)\n",
    "\n",
    "# Create a DataFrame containing the missing \"rmnbrs\"\n",
    "missing_rmnbrs_df = pd.DataFrame({\"Missing rmnbrs\": missing_rmnbrs_list})\n",
    "\n",
    "# Write the missing \"rmnbrs\" to an Excel file\n",
    "missing_rmnbrs_df.to_excel(\"missing_rmnbrs.xlsx\", index=False)\n",
    "\n",
    "print(\"Missing rmnbrs written to 'missing_rmnbrs.xlsx'\")"
   ]
  },
  {
   "cell_type": "code",
   "execution_count": null,
   "id": "ad5c2772",
   "metadata": {},
   "outputs": [],
   "source": []
  }
 ],
 "metadata": {
  "kernelspec": {
   "display_name": "Python 3 (ipykernel)",
   "language": "python",
   "name": "python3"
  },
  "language_info": {
   "codemirror_mode": {
    "name": "ipython",
    "version": 3
   },
   "file_extension": ".py",
   "mimetype": "text/x-python",
   "name": "python",
   "nbconvert_exporter": "python",
   "pygments_lexer": "ipython3",
   "version": "3.11.3"
  }
 },
 "nbformat": 4,
 "nbformat_minor": 5
}
