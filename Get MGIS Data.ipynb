{
 "cells": [
  {
   "cell_type": "code",
   "execution_count": null,
   "id": "ed043b71",
   "metadata": {},
   "outputs": [],
   "source": [
    "# RUN THIS CELL FIRST\n",
    "\n",
    "import pandas as pd\n",
    "room_data = pd.read_excel(\"Search Result - U HOSP.xlsx\") #replace with name of spreadsheet downloaded from MGIS\n",
    "\n",
    "#replace \"port_labels.xlsx\" with the name of the Excel spreadsheet where you input the files, \n",
    "#and replace the items in sheet_name with the names of the sheets in your Excel file.\n",
    "dict_df = pd.read_excel('port_labels.xlsx', \n",
    "                   sheet_name=['2F478C', '2G304C', '2F435C'])\n",
    "                        # Make sure these are named EXACTLY as your Excel sheets are named\n",
    "                        # You can add or delete as many sheet names as necessary.\n",
    "\n",
    "len(dict_df) #confirms how many sheets were read from the file"
   ]
  },
  {
   "cell_type": "code",
   "execution_count": null,
   "id": "da51dc53",
   "metadata": {},
   "outputs": [],
   "source": [
    "# Running this cell creates an individual spreadsheet for each closet\n",
    "# The new spreadsheets will appear in the folder where this notebook is located\n",
    "\n",
    "for dfkey in dict_df:\n",
    "    df = dict_df.get(dfkey)\n",
    "    filtered_df = room_data[room_data[\"rmnbr\"].isin(df[\"rmnbr\"])][[\"rmrecnbr\", \"occdeptlist\", \"rmnbr\"]]\n",
    "    writer = pd.ExcelWriter(f\"{dfkey}.xlsx\")\n",
    "    filtered_df.to_excel(writer, index = False)\n",
    "    writer.close()\n"
   ]
  },
  {
   "cell_type": "code",
   "execution_count": null,
   "id": "23ed2e26",
   "metadata": {},
   "outputs": [],
   "source": [
    "# Running this cell creates one spreadsheet containing all of the rooms from every closet.\n",
    "# Can be used to make a map of all rooms connected to all closets\n",
    "\n",
    "filtered_dfs = []\n",
    "\n",
    "writer = pd.ExcelWriter(\"all_rooms.xlsx\")\n",
    "\n",
    "for dfkey in dict_df:\n",
    "    df = dict_df.get(dfkey)\n",
    "    filtered_df = room_data[room_data[\"rmnbr\"].isin(df[\"rmnbr\"])][[\"rmrecnbr\", \"occdeptlist\", \"rmnbr\"]]\n",
    "    filtered_dfs.append(filtered_df)\n",
    "\n",
    "result_df = pd.concat(filtered_dfs, ignore_index=True)\n",
    "\n",
    "result_df.to_excel(writer, index = False, sheet_name = \"All Closets\")\n",
    "\n",
    "for dfkey in dict_df:\n",
    "    df = dict_df.get(dfkey)\n",
    "    filtered_df = room_data[room_data[\"rmnbr\"].isin(df[\"rmnbr\"])][[\"rmrecnbr\", \"occdeptlist\", \"rmnbr\"]]\n",
    "    filtered_dfs.append(filtered_df)\n",
    "    filtered_df.to_excel(writer, index = False, sheet_name = f\"{dfkey}\")\n",
    "    \n",
    "writer.close()"
   ]
  },
  {
   "cell_type": "code",
   "execution_count": null,
   "id": "ad5c2772",
   "metadata": {},
   "outputs": [],
   "source": [
    "# Running this cell creates one spreadsheet containing all of the rooms NOT found in the MGIS search results.\n",
    "# This spreadsheet cannot be used to make a map with\n",
    "\n",
    "writer = pd.ExcelWriter(\"not_found.xlsx\")\n",
    "for dfkey in dict_df:\n",
    "    df = dict_df.get(dfkey)\n",
    "    filtered_df = df[~df[\"rmnbr\"].isin(room_data[\"rmnbr\"])]\n",
    "    filtered_dfs.append(filtered_df)\n",
    "    filtered_df.to_excel(writer, index = False, sheet_name = f\"{dfkey}\")\n",
    "\n",
    "writer.close()"
   ]
  },
  {
   "cell_type": "code",
   "execution_count": null,
   "id": "0675b554",
   "metadata": {},
   "outputs": [],
   "source": []
  }
 ],
 "metadata": {
  "kernelspec": {
   "display_name": "Python 3 (ipykernel)",
   "language": "python",
   "name": "python3"
  },
  "language_info": {
   "codemirror_mode": {
    "name": "ipython",
    "version": 3
   },
   "file_extension": ".py",
   "mimetype": "text/x-python",
   "name": "python",
   "nbconvert_exporter": "python",
   "pygments_lexer": "ipython3",
   "version": "3.11.3"
  }
 },
 "nbformat": 4,
 "nbformat_minor": 5
}
