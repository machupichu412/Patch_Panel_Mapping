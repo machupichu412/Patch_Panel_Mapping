{
 "cells": [
  {
   "cell_type": "code",
   "execution_count": 3,
   "id": "ea102b88",
   "metadata": {},
   "outputs": [],
   "source": [
    "import pandas as pd\n"
   ]
  },
  {
   "cell_type": "code",
   "execution_count": 4,
   "id": "ed043b71",
   "metadata": {},
   "outputs": [],
   "source": [
    "room_data = pd.read_csv(\"U_HOSP.csv\")"
   ]
  },
  {
   "cell_type": "code",
   "execution_count": 5,
   "id": "e93549e6",
   "metadata": {},
   "outputs": [
    {
     "data": {
      "text/plain": [
       "1"
      ]
     },
     "execution_count": 5,
     "metadata": {},
     "output_type": "execute_result"
    }
   ],
   "source": [
    "dict_df = pd.read_excel('portlabels.xlsx', \n",
    "                   sheet_name=['All Rooms'])\n",
    "\n",
    "len(dict_df)"
   ]
  },
  {
   "cell_type": "code",
   "execution_count": 7,
   "id": "e6f9dc2f",
   "metadata": {},
   "outputs": [],
   "source": [
    "# room_data_filtered = room_data[room_data[\"rmrecnbr\"].isin(lst)][[\"rmrecnbr\", \"occdeptlist\", \"rmnbr\"]]\n",
    "# room_data_filtered"
   ]
  },
  {
   "cell_type": "code",
   "execution_count": 6,
   "id": "da51dc53",
   "metadata": {},
   "outputs": [
    {
     "name": "stdout",
     "output_type": "stream",
     "text": [
      "     rmrecnbr                                    occdeptlist    rmnbr\n",
      "0     2098721  MM Oper Rooms - Univ Hospital (314640) - 100%    1B302\n",
      "1     2098724  MM Oper Rooms - Univ Hospital (314640) - 100%    1B309\n",
      "2     2171125  MM Oper Rooms - Univ Hospital (314640) - 100%   1B311B\n",
      "3     2171124  MM Oper Rooms - Univ Hospital (314640) - 100%   1B311D\n",
      "4     2171123  MM Oper Rooms - Univ Hospital (314640) - 100%   1B311F\n",
      "..        ...                                            ...      ...\n",
      "374   2100605  MM Mat'l Mgmt - Warehouse Ops (314847) - 100%   B2F408\n",
      "375   2122534                                            NaN  B2G314M\n",
      "376   2122532      MM Oper Rooms - UH - Inst (314642) - 100%   B2G315\n",
      "377   2100662                                            NaN  B2H100Z\n",
      "378   2100676                                            NaN  B2H222M\n",
      "\n",
      "[379 rows x 3 columns]\n"
     ]
    }
   ],
   "source": [
    "filtered_dfs = []\n",
    "\n",
    "for dfkey in dict_df:\n",
    "    df = dict_df.get(dfkey)\n",
    "    filtered_df = room_data[room_data[\"rmnbr\"].isin(df[\"rmnbr\"])][[\"rmrecnbr\", \"occdeptlist\", \"rmnbr\"]]\n",
    "    filtered_dfs.append(filtered_df)\n",
    "\n",
    "result_df = pd.concat(filtered_dfs, ignore_index=True)\n",
    "\n",
    "print(result_df)"
   ]
  },
  {
   "cell_type": "code",
   "execution_count": 7,
   "id": "23ed2e26",
   "metadata": {},
   "outputs": [],
   "source": [
    "writer = pd.ExcelWriter(\"rooms.xlsx\")\n",
    "result_df.to_excel(writer, index = False)\n",
    "writer.close()"
   ]
  },
  {
   "cell_type": "code",
   "execution_count": null,
   "id": "9253b110",
   "metadata": {},
   "outputs": [],
   "source": [
    "# Get the list of \"rmnbrs\" in the smaller DataFrames\n",
    "all_small_rmnbrs = pd.concat(small_dfs)[\"rmnbr\"].tolist()\n",
    "\n",
    "# Find the \"rmnbrs\" that are in the smaller DataFrames but not in the master DataFrame\n",
    "missing_rmnbrs = set(all_small_rmnbrs) - set(master_df[\"rmnbr\"])\n",
    "\n",
    "# Convert the set of missing \"rmnbrs\" back to a list\n",
    "missing_rmnbrs_list = list(missing_rmnbrs)\n",
    "\n",
    "# Create a DataFrame containing the missing \"rmnbrs\"\n",
    "missing_rmnbrs_df = pd.DataFrame({\"Missing rmnbrs\": missing_rmnbrs_list})\n",
    "\n",
    "# Write the missing \"rmnbrs\" to an Excel file\n",
    "missing_rmnbrs_df.to_excel(\"missing_rmnbrs.xlsx\", index=False)\n",
    "\n",
    "print(\"Missing rmnbrs written to 'missing_rmnbrs.xlsx'\")"
   ]
  },
  {
   "cell_type": "code",
   "execution_count": null,
   "id": "ad5c2772",
   "metadata": {},
   "outputs": [],
   "source": []
  }
 ],
 "metadata": {
  "kernelspec": {
   "display_name": "Python 3 (ipykernel)",
   "language": "python",
   "name": "python3"
  },
  "language_info": {
   "codemirror_mode": {
    "name": "ipython",
    "version": 3
   },
   "file_extension": ".py",
   "mimetype": "text/x-python",
   "name": "python",
   "nbconvert_exporter": "python",
   "pygments_lexer": "ipython3",
   "version": "3.11.3"
  }
 },
 "nbformat": 4,
 "nbformat_minor": 5
}
